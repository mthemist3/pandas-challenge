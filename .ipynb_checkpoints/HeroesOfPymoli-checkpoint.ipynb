{
 "cells": [
  {
   "cell_type": "markdown",
   "metadata": {},
   "source": [
    "### Note\n",
    "* Instructions have been included for each segment. You do not have to follow them exactly, but they are included to help you think through the steps."
   ]
  },
  {
   "cell_type": "code",
   "execution_count": 329,
   "metadata": {},
   "outputs": [],
   "source": [
    "# Dependencies and Setup\n",
    "import pandas as pd\n",
    "\n",
    "# File to Load (Remember to Change These)\n",
    "file_to_load = \"Resources/purchase_data.csv\"\n",
    "\n",
    "# Read Purchasing File and store into Pandas data frame\n",
    "purchase_data = pd.read_csv(file_to_load)"
   ]
  },
  {
   "cell_type": "markdown",
   "metadata": {},
   "source": [
    "## Player Count"
   ]
  },
  {
   "cell_type": "markdown",
   "metadata": {},
   "source": [
    "* Display the total number of players\n"
   ]
  },
  {
   "cell_type": "code",
   "execution_count": 330,
   "metadata": {},
   "outputs": [
    {
     "data": {
      "text/html": [
       "<div>\n",
       "<style scoped>\n",
       "    .dataframe tbody tr th:only-of-type {\n",
       "        vertical-align: middle;\n",
       "    }\n",
       "\n",
       "    .dataframe tbody tr th {\n",
       "        vertical-align: top;\n",
       "    }\n",
       "\n",
       "    .dataframe thead th {\n",
       "        text-align: right;\n",
       "    }\n",
       "</style>\n",
       "<table border=\"1\" class=\"dataframe\">\n",
       "  <thead>\n",
       "    <tr style=\"text-align: right;\">\n",
       "      <th></th>\n",
       "      <th></th>\n",
       "      <th>Total Players</th>\n",
       "    </tr>\n",
       "  </thead>\n",
       "  <tbody>\n",
       "    <tr>\n",
       "      <th>0</th>\n",
       "      <td></td>\n",
       "      <td>576</td>\n",
       "    </tr>\n",
       "  </tbody>\n",
       "</table>\n",
       "</div>"
      ],
      "text/plain": [
       "     Total Players\n",
       "0              576"
      ]
     },
     "execution_count": 330,
     "metadata": {},
     "output_type": "execute_result"
    }
   ],
   "source": [
    "#Use Len function to find how many values are in purchase datapd\n",
    "tot_players = len(purchase_data[\"SN\"].value_counts())\n",
    "\n",
    "#Create a dataframe with Total Players as the Title\n",
    "tot_playersdf = {'':[''], 'Total Players':[Tot_players]}\n",
    "df = pd.DataFrame(Tot_playersdf, columns = ['', 'Total Players'])\n",
    "df"
   ]
  },
  {
   "cell_type": "markdown",
   "metadata": {},
   "source": [
    "## Purchasing Analysis (Total)"
   ]
  },
  {
   "cell_type": "markdown",
   "metadata": {},
   "source": [
    "* Run basic calculations to obtain number of unique items, average price, etc.\n",
    "\n",
    "\n",
    "* Create a summary data frame to hold the results\n",
    "\n",
    "\n",
    "* Optional: give the displayed data cleaner formatting\n",
    "\n",
    "\n",
    "* Display the summary data frame\n"
   ]
  },
  {
   "cell_type": "code",
   "execution_count": 331,
   "metadata": {
    "scrolled": true
   },
   "outputs": [
    {
     "data": {
      "text/html": [
       "<style  type=\"text/css\" >\n",
       "</style><table id=\"T_56a32777_35b7_11eb_abfe_548d5acefd3c\" ><thead>    <tr>        <th class=\"blank level0\" ></th>        <th class=\"col_heading level0 col0\" ></th>        <th class=\"col_heading level0 col1\" >Number of Unique Items</th>        <th class=\"col_heading level0 col2\" >Average Price</th>        <th class=\"col_heading level0 col3\" >Number of Purchases</th>        <th class=\"col_heading level0 col4\" >Total Revenue</th>    </tr></thead><tbody>\n",
       "                <tr>\n",
       "                        <th id=\"T_56a32777_35b7_11eb_abfe_548d5acefd3clevel0_row0\" class=\"row_heading level0 row0\" >0</th>\n",
       "                        <td id=\"T_56a32777_35b7_11eb_abfe_548d5acefd3crow0_col0\" class=\"data row0 col0\" ></td>\n",
       "                        <td id=\"T_56a32777_35b7_11eb_abfe_548d5acefd3crow0_col1\" class=\"data row0 col1\" >179</td>\n",
       "                        <td id=\"T_56a32777_35b7_11eb_abfe_548d5acefd3crow0_col2\" class=\"data row0 col2\" >$3.05</td>\n",
       "                        <td id=\"T_56a32777_35b7_11eb_abfe_548d5acefd3crow0_col3\" class=\"data row0 col3\" >780</td>\n",
       "                        <td id=\"T_56a32777_35b7_11eb_abfe_548d5acefd3crow0_col4\" class=\"data row0 col4\" >$2,379.77</td>\n",
       "            </tr>\n",
       "    </tbody></table>"
      ],
      "text/plain": [
       "<pandas.io.formats.style.Styler at 0x2a20447e5b0>"
      ]
     },
     "execution_count": 331,
     "metadata": {},
     "output_type": "execute_result"
    }
   ],
   "source": [
    "#performing calculations for above and checking\n",
    "# number of unique items\n",
    "len_unique_id = len(purchase_data[\"Item ID\"].unique())\n",
    "#len_unique_id\n",
    "avg_price = purchase_data[\"Price\"].mean()\n",
    "# avg_price\n",
    "tot_purchases = len(purchase_data)\n",
    "# tot_purchases\n",
    "tot_rev = purchase_data[\"Price\"].sum()\n",
    "\n",
    "#Create a new DataFrame for Values above by first converting to a dictionary\n",
    "New_Df = {'':[''], 'Number of Unique Items':[len_unique_id], 'Average Price':[avg_price], 'Number of Purchases':[tot_purchases], 'Total Revenue':[tot_rev]}\n",
    "New_Df\n",
    "New_df1 = pd.DataFrame(New_Df, columns = ['','Number of Unique Items','Average Price','Number of Purchases','Total Revenue'])\n",
    "\n",
    "# formatting average price and total revenue\n",
    "New_df1.style.format({'Average Price':\"${:,.2f}\",'Total Revenue': '${:,.2f}'})"
   ]
  },
  {
   "cell_type": "markdown",
   "metadata": {},
   "source": [
    "## Gender Demographics"
   ]
  },
  {
   "cell_type": "markdown",
   "metadata": {},
   "source": [
    "* Percentage and Count of Male Players\n",
    "\n",
    "\n",
    "* Percentage and Count of Female Players\n",
    "\n",
    "\n",
    "* Percentage and Count of Other / Non-Disclosed\n",
    "\n",
    "\n"
   ]
  },
  {
   "cell_type": "code",
   "execution_count": 332,
   "metadata": {},
   "outputs": [
    {
     "data": {
      "text/html": [
       "<style  type=\"text/css\" >\n",
       "</style><table id=\"T_56f7f0fa_35b7_11eb_ad4d_548d5acefd3c\" ><thead>    <tr>        <th class=\"blank level0\" ></th>        <th class=\"col_heading level0 col0\" >Total Count</th>        <th class=\"col_heading level0 col1\" >Percentage of Players</th>    </tr>    <tr>        <th class=\"index_name level0\" >Gender</th>        <th class=\"blank\" ></th>        <th class=\"blank\" ></th>    </tr></thead><tbody>\n",
       "                <tr>\n",
       "                        <th id=\"T_56f7f0fa_35b7_11eb_ad4d_548d5acefd3clevel0_row0\" class=\"row_heading level0 row0\" >Male</th>\n",
       "                        <td id=\"T_56f7f0fa_35b7_11eb_ad4d_548d5acefd3crow0_col0\" class=\"data row0 col0\" >484</td>\n",
       "                        <td id=\"T_56f7f0fa_35b7_11eb_ad4d_548d5acefd3crow0_col1\" class=\"data row0 col1\" >84.03%</td>\n",
       "            </tr>\n",
       "            <tr>\n",
       "                        <th id=\"T_56f7f0fa_35b7_11eb_ad4d_548d5acefd3clevel0_row1\" class=\"row_heading level0 row1\" >Female</th>\n",
       "                        <td id=\"T_56f7f0fa_35b7_11eb_ad4d_548d5acefd3crow1_col0\" class=\"data row1 col0\" >81</td>\n",
       "                        <td id=\"T_56f7f0fa_35b7_11eb_ad4d_548d5acefd3crow1_col1\" class=\"data row1 col1\" >14.06%</td>\n",
       "            </tr>\n",
       "            <tr>\n",
       "                        <th id=\"T_56f7f0fa_35b7_11eb_ad4d_548d5acefd3clevel0_row2\" class=\"row_heading level0 row2\" >Other / Non-Disclosed</th>\n",
       "                        <td id=\"T_56f7f0fa_35b7_11eb_ad4d_548d5acefd3crow2_col0\" class=\"data row2 col0\" >11</td>\n",
       "                        <td id=\"T_56f7f0fa_35b7_11eb_ad4d_548d5acefd3crow2_col1\" class=\"data row2 col1\" >1.91%</td>\n",
       "            </tr>\n",
       "    </tbody></table>"
      ],
      "text/plain": [
       "<pandas.io.formats.style.Styler at 0x2a204165700>"
      ]
     },
     "execution_count": 332,
     "metadata": {},
     "output_type": "execute_result"
    }
   ],
   "source": [
    "# Make column 1 Gender using groupby to see info more clearly\n",
    "mf_grouping = purchase_data.groupby(\"Gender\")\n",
    "mf_grouping.count().head(10)\n",
    "# using nunique to count all unique values source:https://www.geeksforgeeks.org/python-pandas-series-nunique/\n",
    "gender_count = mf_grouping.nunique()[\"SN\"]\n",
    "# calculating percentage of players using total player function previously created\n",
    "percentage = (gender_count/tot_players*100)\n",
    "# create a DataFrame for the information\n",
    "gender_df=pd.DataFrame({\"Total Count\": gender_count, \"Percentage of Players\": percentage})\n",
    "# Change the formatting and order (was not sure how to put formatting and order together so asked for assistance)\n",
    "gender_df.sort_values([\"Total Count\"], ascending = False).style.format({\"Percentage of Players\":\"{:.2f}%\"})"
   ]
  },
  {
   "cell_type": "markdown",
   "metadata": {},
   "source": [
    "\n",
    "## Purchasing Analysis (Gender)"
   ]
  },
  {
   "cell_type": "markdown",
   "metadata": {},
   "source": [
    "* Run basic calculations to obtain purchase count, avg. purchase price, avg. purchase total per person etc. by gender\n",
    "\n",
    "\n",
    "\n",
    "\n",
    "* Create a summary data frame to hold the results\n",
    "\n",
    "\n",
    "* Optional: give the displayed data cleaner formatting\n",
    "\n",
    "\n",
    "* Display the summary data frame"
   ]
  },
  {
   "cell_type": "code",
   "execution_count": 333,
   "metadata": {},
   "outputs": [
    {
     "data": {
      "text/html": [
       "<style  type=\"text/css\" >\n",
       "</style><table id=\"T_5754155c_35b7_11eb_a80a_548d5acefd3c\" ><thead>    <tr>        <th class=\"blank level0\" ></th>        <th class=\"col_heading level0 col0\" >Purchase Count</th>        <th class=\"col_heading level0 col1\" >Average Purchase Price</th>        <th class=\"col_heading level0 col2\" >Total Purchase Value</th>        <th class=\"col_heading level0 col3\" >Avg Total Purchase per Person</th>    </tr>    <tr>        <th class=\"index_name level0\" >Gender</th>        <th class=\"blank\" ></th>        <th class=\"blank\" ></th>        <th class=\"blank\" ></th>        <th class=\"blank\" ></th>    </tr></thead><tbody>\n",
       "                <tr>\n",
       "                        <th id=\"T_5754155c_35b7_11eb_a80a_548d5acefd3clevel0_row0\" class=\"row_heading level0 row0\" >Female</th>\n",
       "                        <td id=\"T_5754155c_35b7_11eb_a80a_548d5acefd3crow0_col0\" class=\"data row0 col0\" >113</td>\n",
       "                        <td id=\"T_5754155c_35b7_11eb_a80a_548d5acefd3crow0_col1\" class=\"data row0 col1\" >$3.20</td>\n",
       "                        <td id=\"T_5754155c_35b7_11eb_a80a_548d5acefd3crow0_col2\" class=\"data row0 col2\" >$361.94</td>\n",
       "                        <td id=\"T_5754155c_35b7_11eb_a80a_548d5acefd3crow0_col3\" class=\"data row0 col3\" >$4.47</td>\n",
       "            </tr>\n",
       "            <tr>\n",
       "                        <th id=\"T_5754155c_35b7_11eb_a80a_548d5acefd3clevel0_row1\" class=\"row_heading level0 row1\" >Male</th>\n",
       "                        <td id=\"T_5754155c_35b7_11eb_a80a_548d5acefd3crow1_col0\" class=\"data row1 col0\" >652</td>\n",
       "                        <td id=\"T_5754155c_35b7_11eb_a80a_548d5acefd3crow1_col1\" class=\"data row1 col1\" >$3.02</td>\n",
       "                        <td id=\"T_5754155c_35b7_11eb_a80a_548d5acefd3crow1_col2\" class=\"data row1 col2\" >$1967.64</td>\n",
       "                        <td id=\"T_5754155c_35b7_11eb_a80a_548d5acefd3crow1_col3\" class=\"data row1 col3\" >$4.07</td>\n",
       "            </tr>\n",
       "            <tr>\n",
       "                        <th id=\"T_5754155c_35b7_11eb_a80a_548d5acefd3clevel0_row2\" class=\"row_heading level0 row2\" >Other / Non-Disclosed</th>\n",
       "                        <td id=\"T_5754155c_35b7_11eb_a80a_548d5acefd3crow2_col0\" class=\"data row2 col0\" >15</td>\n",
       "                        <td id=\"T_5754155c_35b7_11eb_a80a_548d5acefd3crow2_col1\" class=\"data row2 col1\" >$3.35</td>\n",
       "                        <td id=\"T_5754155c_35b7_11eb_a80a_548d5acefd3crow2_col2\" class=\"data row2 col2\" >$50.19</td>\n",
       "                        <td id=\"T_5754155c_35b7_11eb_a80a_548d5acefd3crow2_col3\" class=\"data row2 col3\" >$4.56</td>\n",
       "            </tr>\n",
       "    </tbody></table>"
      ],
      "text/plain": [
       "<pandas.io.formats.style.Styler at 0x2a204344b80>"
      ]
     },
     "execution_count": 333,
     "metadata": {},
     "output_type": "execute_result"
    }
   ],
   "source": [
    "# Calculations\n",
    "# Purchase Count\n",
    "purchase_count= mf_grouping[\"Item ID\"].count()\n",
    "# Average purchase price\n",
    "avg_price = mf_grouping[\"Price\"].mean()\n",
    "# Total purchase value\n",
    "tot_val = mf_grouping[\"Price\"].sum()\n",
    "# Avg total purchase per person\n",
    "tot_pp = tot_val/gender_count\n",
    "\n",
    "# Create the dataframe pre formatting\n",
    "genval_df=pd.DataFrame({\"Purchase Count\": purchase_count, \"Average Purchase Price\": avg_price,\n",
    "                        \"Total Purchase Value\": tot_val,  \"Avg Total Purchase per Person\": tot_pp})\n",
    "\n",
    "# Change the formatting\n",
    "genval_df.style.format({\"Average Purchase Price\":\"${:.2f}\",\"Total Purchase Value\":\"${:.2f}\",\"Avg Total Purchase per Person\":\"${:.2f}\"})"
   ]
  },
  {
   "cell_type": "markdown",
   "metadata": {},
   "source": [
    "## Age Demographics"
   ]
  },
  {
   "cell_type": "markdown",
   "metadata": {},
   "source": [
    "* Establish bins for ages\n",
    "\n",
    "\n",
    "* Categorize the existing players using the age bins. Hint: use pd.cut()\n",
    "\n",
    "\n",
    "* Calculate the numbers and percentages by age group\n",
    "\n",
    "\n",
    "* Create a summary data frame to hold the results\n",
    "\n",
    "\n",
    "* Optional: round the percentage column to two decimal points\n",
    "\n",
    "\n",
    "* Display Age Demographics Table\n"
   ]
  },
  {
   "cell_type": "code",
   "execution_count": 334,
   "metadata": {},
   "outputs": [
    {
     "data": {
      "text/html": [
       "<style  type=\"text/css\" >\n",
       "</style><table id=\"T_57abbd5b_35b7_11eb_91d7_548d5acefd3c\" ><thead>    <tr>        <th class=\"blank level0\" ></th>        <th class=\"col_heading level0 col0\" >Total Count</th>        <th class=\"col_heading level0 col1\" >Percentage of Players</th>    </tr></thead><tbody>\n",
       "                <tr>\n",
       "                        <th id=\"T_57abbd5b_35b7_11eb_91d7_548d5acefd3clevel0_row0\" class=\"row_heading level0 row0\" ><10</th>\n",
       "                        <td id=\"T_57abbd5b_35b7_11eb_91d7_548d5acefd3crow0_col0\" class=\"data row0 col0\" >17</td>\n",
       "                        <td id=\"T_57abbd5b_35b7_11eb_91d7_548d5acefd3crow0_col1\" class=\"data row0 col1\" >2.95%</td>\n",
       "            </tr>\n",
       "            <tr>\n",
       "                        <th id=\"T_57abbd5b_35b7_11eb_91d7_548d5acefd3clevel0_row1\" class=\"row_heading level0 row1\" >10-14</th>\n",
       "                        <td id=\"T_57abbd5b_35b7_11eb_91d7_548d5acefd3crow1_col0\" class=\"data row1 col0\" >22</td>\n",
       "                        <td id=\"T_57abbd5b_35b7_11eb_91d7_548d5acefd3crow1_col1\" class=\"data row1 col1\" >3.82%</td>\n",
       "            </tr>\n",
       "            <tr>\n",
       "                        <th id=\"T_57abbd5b_35b7_11eb_91d7_548d5acefd3clevel0_row2\" class=\"row_heading level0 row2\" >15-19</th>\n",
       "                        <td id=\"T_57abbd5b_35b7_11eb_91d7_548d5acefd3crow2_col0\" class=\"data row2 col0\" >107</td>\n",
       "                        <td id=\"T_57abbd5b_35b7_11eb_91d7_548d5acefd3crow2_col1\" class=\"data row2 col1\" >18.58%</td>\n",
       "            </tr>\n",
       "            <tr>\n",
       "                        <th id=\"T_57abbd5b_35b7_11eb_91d7_548d5acefd3clevel0_row3\" class=\"row_heading level0 row3\" >20-24</th>\n",
       "                        <td id=\"T_57abbd5b_35b7_11eb_91d7_548d5acefd3crow3_col0\" class=\"data row3 col0\" >258</td>\n",
       "                        <td id=\"T_57abbd5b_35b7_11eb_91d7_548d5acefd3crow3_col1\" class=\"data row3 col1\" >44.79%</td>\n",
       "            </tr>\n",
       "            <tr>\n",
       "                        <th id=\"T_57abbd5b_35b7_11eb_91d7_548d5acefd3clevel0_row4\" class=\"row_heading level0 row4\" >25-29</th>\n",
       "                        <td id=\"T_57abbd5b_35b7_11eb_91d7_548d5acefd3crow4_col0\" class=\"data row4 col0\" >77</td>\n",
       "                        <td id=\"T_57abbd5b_35b7_11eb_91d7_548d5acefd3crow4_col1\" class=\"data row4 col1\" >13.37%</td>\n",
       "            </tr>\n",
       "            <tr>\n",
       "                        <th id=\"T_57abbd5b_35b7_11eb_91d7_548d5acefd3clevel0_row5\" class=\"row_heading level0 row5\" >30-34</th>\n",
       "                        <td id=\"T_57abbd5b_35b7_11eb_91d7_548d5acefd3crow5_col0\" class=\"data row5 col0\" >52</td>\n",
       "                        <td id=\"T_57abbd5b_35b7_11eb_91d7_548d5acefd3crow5_col1\" class=\"data row5 col1\" >9.03%</td>\n",
       "            </tr>\n",
       "            <tr>\n",
       "                        <th id=\"T_57abbd5b_35b7_11eb_91d7_548d5acefd3clevel0_row6\" class=\"row_heading level0 row6\" >35-39</th>\n",
       "                        <td id=\"T_57abbd5b_35b7_11eb_91d7_548d5acefd3crow6_col0\" class=\"data row6 col0\" >31</td>\n",
       "                        <td id=\"T_57abbd5b_35b7_11eb_91d7_548d5acefd3crow6_col1\" class=\"data row6 col1\" >5.38%</td>\n",
       "            </tr>\n",
       "            <tr>\n",
       "                        <th id=\"T_57abbd5b_35b7_11eb_91d7_548d5acefd3clevel0_row7\" class=\"row_heading level0 row7\" >40+</th>\n",
       "                        <td id=\"T_57abbd5b_35b7_11eb_91d7_548d5acefd3crow7_col0\" class=\"data row7 col0\" >12</td>\n",
       "                        <td id=\"T_57abbd5b_35b7_11eb_91d7_548d5acefd3crow7_col1\" class=\"data row7 col1\" >2.08%</td>\n",
       "            </tr>\n",
       "    </tbody></table>"
      ],
      "text/plain": [
       "<pandas.io.formats.style.Styler at 0x2a204344880>"
      ]
     },
     "execution_count": 334,
     "metadata": {},
     "output_type": "execute_result"
    }
   ],
   "source": [
    "# create bins with labels\n",
    "bins = [0, 9.99, 14.99, 19.99, 24.99, 29.99, 34.99, 39.99, 100]\n",
    "group_labels = [\"<10\" ,\"10-14\",\"15-19\",\"20-24\",\"25-29\",\"30-34\",\"35-39\",\"40+\"]\n",
    "\n",
    "# Use cut function to bring Dataframe into bins\n",
    "purchase_data[\"Age Group\"] = pd.cut(purchase_data[\"Age\"], bins, labels=group_labels, include_lowest=True)\n",
    "\n",
    "# Group by Age Group\n",
    "age_grouped = purchase_data.groupby(\"Age Group\")\n",
    "\n",
    "# Find total count per age group\n",
    "age_tot_count = age_grouped.nunique()[\"SN\"]\n",
    "# ages_tot_count\n",
    "# Find Percentage by age\n",
    "age_percent = (age_tot_count/tot_players)*100\n",
    "# Create a DataFrame\n",
    "Age_Demo_df = pd.DataFrame({\"Total Count\": ages_tot_count, \"Percentage of Players\": ages_percent})\n",
    "# Delete the index name in the 1st column\n",
    "Age_Demo_df.index.name = None\n",
    "# Change the formatting\n",
    "Age_Demo_df.style.format({\"Percentage of Players\":\"{:.2f}%\"})"
   ]
  },
  {
   "cell_type": "markdown",
   "metadata": {},
   "source": [
    "## Purchasing Analysis (Age)"
   ]
  },
  {
   "cell_type": "markdown",
   "metadata": {},
   "source": [
    "* Bin the purchase_data data frame by age\n",
    "\n",
    "\n",
    "* Run basic calculations to obtain purchase count, avg. purchase price, avg. purchase total per person etc. in the table below\n",
    "\n",
    "\n",
    "* Create a summary data frame to hold the results\n",
    "\n",
    "\n",
    "* Optional: give the displayed data cleaner formatting\n",
    "\n",
    "\n",
    "* Display the summary data frame"
   ]
  },
  {
   "cell_type": "code",
   "execution_count": 335,
   "metadata": {},
   "outputs": [
    {
     "data": {
      "text/html": [
       "<style  type=\"text/css\" >\n",
       "</style><table id=\"T_580ee0ac_35b7_11eb_9b74_548d5acefd3c\" ><thead>    <tr>        <th class=\"blank level0\" ></th>        <th class=\"col_heading level0 col0\" >Purchase Count</th>        <th class=\"col_heading level0 col1\" >Average Purchase Price</th>        <th class=\"col_heading level0 col2\" >Total Purchase Value</th>        <th class=\"col_heading level0 col3\" >Avg Total Purchase per Person</th>    </tr></thead><tbody>\n",
       "                <tr>\n",
       "                        <th id=\"T_580ee0ac_35b7_11eb_9b74_548d5acefd3clevel0_row0\" class=\"row_heading level0 row0\" ><10</th>\n",
       "                        <td id=\"T_580ee0ac_35b7_11eb_9b74_548d5acefd3crow0_col0\" class=\"data row0 col0\" >23</td>\n",
       "                        <td id=\"T_580ee0ac_35b7_11eb_9b74_548d5acefd3crow0_col1\" class=\"data row0 col1\" >$3.35</td>\n",
       "                        <td id=\"T_580ee0ac_35b7_11eb_9b74_548d5acefd3crow0_col2\" class=\"data row0 col2\" >$77.13</td>\n",
       "                        <td id=\"T_580ee0ac_35b7_11eb_9b74_548d5acefd3crow0_col3\" class=\"data row0 col3\" >$4.54</td>\n",
       "            </tr>\n",
       "            <tr>\n",
       "                        <th id=\"T_580ee0ac_35b7_11eb_9b74_548d5acefd3clevel0_row1\" class=\"row_heading level0 row1\" >10-14</th>\n",
       "                        <td id=\"T_580ee0ac_35b7_11eb_9b74_548d5acefd3crow1_col0\" class=\"data row1 col0\" >28</td>\n",
       "                        <td id=\"T_580ee0ac_35b7_11eb_9b74_548d5acefd3crow1_col1\" class=\"data row1 col1\" >$2.96</td>\n",
       "                        <td id=\"T_580ee0ac_35b7_11eb_9b74_548d5acefd3crow1_col2\" class=\"data row1 col2\" >$82.78</td>\n",
       "                        <td id=\"T_580ee0ac_35b7_11eb_9b74_548d5acefd3crow1_col3\" class=\"data row1 col3\" >$3.76</td>\n",
       "            </tr>\n",
       "            <tr>\n",
       "                        <th id=\"T_580ee0ac_35b7_11eb_9b74_548d5acefd3clevel0_row2\" class=\"row_heading level0 row2\" >15-19</th>\n",
       "                        <td id=\"T_580ee0ac_35b7_11eb_9b74_548d5acefd3crow2_col0\" class=\"data row2 col0\" >136</td>\n",
       "                        <td id=\"T_580ee0ac_35b7_11eb_9b74_548d5acefd3crow2_col1\" class=\"data row2 col1\" >$3.04</td>\n",
       "                        <td id=\"T_580ee0ac_35b7_11eb_9b74_548d5acefd3crow2_col2\" class=\"data row2 col2\" >$412.89</td>\n",
       "                        <td id=\"T_580ee0ac_35b7_11eb_9b74_548d5acefd3crow2_col3\" class=\"data row2 col3\" >$3.86</td>\n",
       "            </tr>\n",
       "            <tr>\n",
       "                        <th id=\"T_580ee0ac_35b7_11eb_9b74_548d5acefd3clevel0_row3\" class=\"row_heading level0 row3\" >20-24</th>\n",
       "                        <td id=\"T_580ee0ac_35b7_11eb_9b74_548d5acefd3crow3_col0\" class=\"data row3 col0\" >365</td>\n",
       "                        <td id=\"T_580ee0ac_35b7_11eb_9b74_548d5acefd3crow3_col1\" class=\"data row3 col1\" >$3.05</td>\n",
       "                        <td id=\"T_580ee0ac_35b7_11eb_9b74_548d5acefd3crow3_col2\" class=\"data row3 col2\" >$1114.06</td>\n",
       "                        <td id=\"T_580ee0ac_35b7_11eb_9b74_548d5acefd3crow3_col3\" class=\"data row3 col3\" >$4.32</td>\n",
       "            </tr>\n",
       "            <tr>\n",
       "                        <th id=\"T_580ee0ac_35b7_11eb_9b74_548d5acefd3clevel0_row4\" class=\"row_heading level0 row4\" >25-29</th>\n",
       "                        <td id=\"T_580ee0ac_35b7_11eb_9b74_548d5acefd3crow4_col0\" class=\"data row4 col0\" >101</td>\n",
       "                        <td id=\"T_580ee0ac_35b7_11eb_9b74_548d5acefd3crow4_col1\" class=\"data row4 col1\" >$2.90</td>\n",
       "                        <td id=\"T_580ee0ac_35b7_11eb_9b74_548d5acefd3crow4_col2\" class=\"data row4 col2\" >$293.00</td>\n",
       "                        <td id=\"T_580ee0ac_35b7_11eb_9b74_548d5acefd3crow4_col3\" class=\"data row4 col3\" >$3.81</td>\n",
       "            </tr>\n",
       "            <tr>\n",
       "                        <th id=\"T_580ee0ac_35b7_11eb_9b74_548d5acefd3clevel0_row5\" class=\"row_heading level0 row5\" >30-34</th>\n",
       "                        <td id=\"T_580ee0ac_35b7_11eb_9b74_548d5acefd3crow5_col0\" class=\"data row5 col0\" >73</td>\n",
       "                        <td id=\"T_580ee0ac_35b7_11eb_9b74_548d5acefd3crow5_col1\" class=\"data row5 col1\" >$2.93</td>\n",
       "                        <td id=\"T_580ee0ac_35b7_11eb_9b74_548d5acefd3crow5_col2\" class=\"data row5 col2\" >$214.00</td>\n",
       "                        <td id=\"T_580ee0ac_35b7_11eb_9b74_548d5acefd3crow5_col3\" class=\"data row5 col3\" >$4.12</td>\n",
       "            </tr>\n",
       "            <tr>\n",
       "                        <th id=\"T_580ee0ac_35b7_11eb_9b74_548d5acefd3clevel0_row6\" class=\"row_heading level0 row6\" >35-39</th>\n",
       "                        <td id=\"T_580ee0ac_35b7_11eb_9b74_548d5acefd3crow6_col0\" class=\"data row6 col0\" >41</td>\n",
       "                        <td id=\"T_580ee0ac_35b7_11eb_9b74_548d5acefd3crow6_col1\" class=\"data row6 col1\" >$3.60</td>\n",
       "                        <td id=\"T_580ee0ac_35b7_11eb_9b74_548d5acefd3crow6_col2\" class=\"data row6 col2\" >$147.67</td>\n",
       "                        <td id=\"T_580ee0ac_35b7_11eb_9b74_548d5acefd3crow6_col3\" class=\"data row6 col3\" >$4.76</td>\n",
       "            </tr>\n",
       "            <tr>\n",
       "                        <th id=\"T_580ee0ac_35b7_11eb_9b74_548d5acefd3clevel0_row7\" class=\"row_heading level0 row7\" >40+</th>\n",
       "                        <td id=\"T_580ee0ac_35b7_11eb_9b74_548d5acefd3crow7_col0\" class=\"data row7 col0\" >13</td>\n",
       "                        <td id=\"T_580ee0ac_35b7_11eb_9b74_548d5acefd3crow7_col1\" class=\"data row7 col1\" >$2.94</td>\n",
       "                        <td id=\"T_580ee0ac_35b7_11eb_9b74_548d5acefd3crow7_col2\" class=\"data row7 col2\" >$38.24</td>\n",
       "                        <td id=\"T_580ee0ac_35b7_11eb_9b74_548d5acefd3crow7_col3\" class=\"data row7 col3\" >$3.19</td>\n",
       "            </tr>\n",
       "    </tbody></table>"
      ],
      "text/plain": [
       "<pandas.io.formats.style.Styler at 0x2a20449a880>"
      ]
     },
     "execution_count": 335,
     "metadata": {},
     "output_type": "execute_result"
    }
   ],
   "source": [
    "# Purchase Count\n",
    "ages_purchase_count= ages_grouped[\"Item ID\"].count()\n",
    "\n",
    "# Average purchase price\n",
    "ages_avg_price = ages_grouped[\"Price\"].mean()\n",
    "\n",
    "# Total purchase value\n",
    "ages_tot_val = ages_grouped[\"Price\"].sum()\n",
    "\n",
    "# Avg total purchase per person (got a little confused here bc we had to use age_tot_count instead of age purch count)\n",
    "ages_tot_pp = ages_tot_val/age_tot_count\n",
    "\n",
    "# Create a DataFrame\n",
    "Age_Demo_df = pd.DataFrame({\"Purchase Count\": ages_purchase_count, \"Average Purchase Price\": ages_avg_price,\n",
    "                            \"Total Purchase Value\": ages_tot_val, \"Avg Total Purchase per Person\": ages_tot_pp})\n",
    "\n",
    "# Change the formatting\n",
    "Age_Demo_df.style.format({\"Average Purchase Price\":\"${:.2f}\",\"Total Purchase Value\":\"${:.2f}\",\"Avg Total Purchase per Person\":\"${:.2f}\"})"
   ]
  },
  {
   "cell_type": "markdown",
   "metadata": {},
   "source": [
    "## Top Spenders"
   ]
  },
  {
   "cell_type": "markdown",
   "metadata": {},
   "source": [
    "* Run basic calculations to obtain the results in the table below\n",
    "\n",
    "\n",
    "* Create a summary data frame to hold the results\n",
    "\n",
    "\n",
    "* Sort the total purchase value column in descending order\n",
    "\n",
    "\n",
    "* Optional: give the displayed data cleaner formatting\n",
    "\n",
    "\n",
    "* Display a preview of the summary data frame\n",
    "\n"
   ]
  },
  {
   "cell_type": "code",
   "execution_count": 336,
   "metadata": {},
   "outputs": [
    {
     "data": {
      "text/html": [
       "<style  type=\"text/css\" >\n",
       "</style><table id=\"T_58684199_35b7_11eb_b65a_548d5acefd3c\" ><thead>    <tr>        <th class=\"blank level0\" ></th>        <th class=\"col_heading level0 col0\" >Purchase Count</th>        <th class=\"col_heading level0 col1\" >Average Purchase Price</th>        <th class=\"col_heading level0 col2\" >Total Purchase Value</th>    </tr>    <tr>        <th class=\"index_name level0\" >SN</th>        <th class=\"blank\" ></th>        <th class=\"blank\" ></th>        <th class=\"blank\" ></th>    </tr></thead><tbody>\n",
       "                <tr>\n",
       "                        <th id=\"T_58684199_35b7_11eb_b65a_548d5acefd3clevel0_row0\" class=\"row_heading level0 row0\" >Lisosia93</th>\n",
       "                        <td id=\"T_58684199_35b7_11eb_b65a_548d5acefd3crow0_col0\" class=\"data row0 col0\" >5</td>\n",
       "                        <td id=\"T_58684199_35b7_11eb_b65a_548d5acefd3crow0_col1\" class=\"data row0 col1\" >$3.79</td>\n",
       "                        <td id=\"T_58684199_35b7_11eb_b65a_548d5acefd3crow0_col2\" class=\"data row0 col2\" >$18.96</td>\n",
       "            </tr>\n",
       "            <tr>\n",
       "                        <th id=\"T_58684199_35b7_11eb_b65a_548d5acefd3clevel0_row1\" class=\"row_heading level0 row1\" >Idastidru52</th>\n",
       "                        <td id=\"T_58684199_35b7_11eb_b65a_548d5acefd3crow1_col0\" class=\"data row1 col0\" >4</td>\n",
       "                        <td id=\"T_58684199_35b7_11eb_b65a_548d5acefd3crow1_col1\" class=\"data row1 col1\" >$3.86</td>\n",
       "                        <td id=\"T_58684199_35b7_11eb_b65a_548d5acefd3crow1_col2\" class=\"data row1 col2\" >$15.45</td>\n",
       "            </tr>\n",
       "            <tr>\n",
       "                        <th id=\"T_58684199_35b7_11eb_b65a_548d5acefd3clevel0_row2\" class=\"row_heading level0 row2\" >Chamjask73</th>\n",
       "                        <td id=\"T_58684199_35b7_11eb_b65a_548d5acefd3crow2_col0\" class=\"data row2 col0\" >3</td>\n",
       "                        <td id=\"T_58684199_35b7_11eb_b65a_548d5acefd3crow2_col1\" class=\"data row2 col1\" >$4.61</td>\n",
       "                        <td id=\"T_58684199_35b7_11eb_b65a_548d5acefd3crow2_col2\" class=\"data row2 col2\" >$13.83</td>\n",
       "            </tr>\n",
       "            <tr>\n",
       "                        <th id=\"T_58684199_35b7_11eb_b65a_548d5acefd3clevel0_row3\" class=\"row_heading level0 row3\" >Iral74</th>\n",
       "                        <td id=\"T_58684199_35b7_11eb_b65a_548d5acefd3crow3_col0\" class=\"data row3 col0\" >4</td>\n",
       "                        <td id=\"T_58684199_35b7_11eb_b65a_548d5acefd3crow3_col1\" class=\"data row3 col1\" >$3.40</td>\n",
       "                        <td id=\"T_58684199_35b7_11eb_b65a_548d5acefd3crow3_col2\" class=\"data row3 col2\" >$13.62</td>\n",
       "            </tr>\n",
       "            <tr>\n",
       "                        <th id=\"T_58684199_35b7_11eb_b65a_548d5acefd3clevel0_row4\" class=\"row_heading level0 row4\" >Iskadarya95</th>\n",
       "                        <td id=\"T_58684199_35b7_11eb_b65a_548d5acefd3crow4_col0\" class=\"data row4 col0\" >3</td>\n",
       "                        <td id=\"T_58684199_35b7_11eb_b65a_548d5acefd3crow4_col1\" class=\"data row4 col1\" >$4.37</td>\n",
       "                        <td id=\"T_58684199_35b7_11eb_b65a_548d5acefd3crow4_col2\" class=\"data row4 col2\" >$13.10</td>\n",
       "            </tr>\n",
       "    </tbody></table>"
      ],
      "text/plain": [
       "<pandas.io.formats.style.Styler at 0x2a2042ce430>"
      ]
     },
     "execution_count": 336,
     "metadata": {},
     "output_type": "execute_result"
    }
   ],
   "source": [
    "# Group by SN\n",
    "sn_grouping = purchase_data.groupby(\"SN\")\n",
    "# Purchase Count\n",
    "sn_purchase_count= sn_grouping[\"Purchase ID\"].count()\n",
    "# Average purchase price\n",
    "sn_avg_price = sn_grouping[\"Price\"].mean()\n",
    "# Total purchase value\n",
    "sn_tot_val = sn_grouping[\"Price\"].sum()\n",
    "\n",
    "# Create the dataframe pre formatting\n",
    "spender_df=pd.DataFrame({\"Purchase Count\": sn_purchase_count, \"Average Purchase Price\": sn_avg_price,\n",
    "                        \"Total Purchase Value\": sn_tot_val})\n",
    "# Sort in descending order to obtain top 5 spender names \n",
    "formatted_spenders_df = spender_df.sort_values([\"Total Purchase Value\"], ascending=False).head()\n",
    "\n",
    "# Change the formatting\n",
    "formatted_spenders_df.style.format({\"Average Purchase Price\":\"${:.2f}\",\"Total Purchase Value\":\"${:.2f}\"})\n"
   ]
  },
  {
   "cell_type": "markdown",
   "metadata": {},
   "source": [
    "## Most Popular Items"
   ]
  },
  {
   "cell_type": "markdown",
   "metadata": {},
   "source": [
    "* Retrieve the Item ID, Item Name, and Item Price columns\n",
    "\n",
    "\n",
    "* Group by Item ID and Item Name. Perform calculations to obtain purchase count, average item price, and total purchase value\n",
    "\n",
    "\n",
    "* Create a summary data frame to hold the results\n",
    "\n",
    "\n",
    "* Sort the purchase count column in descending order\n",
    "\n",
    "\n",
    "* Optional: give the displayed data cleaner formatting\n",
    "\n",
    "\n",
    "* Display a preview of the summary data frame\n",
    "\n"
   ]
  },
  {
   "cell_type": "code",
   "execution_count": 337,
   "metadata": {},
   "outputs": [
    {
     "data": {
      "text/html": [
       "<style  type=\"text/css\" >\n",
       "</style><table id=\"T_58bdd3ab_35b7_11eb_81b8_548d5acefd3c\" ><thead>    <tr>        <th class=\"blank\" ></th>        <th class=\"blank level0\" ></th>        <th class=\"col_heading level0 col0\" >Purchase Count</th>        <th class=\"col_heading level0 col1\" >Item Price</th>        <th class=\"col_heading level0 col2\" >Total Purchase Value</th>    </tr>    <tr>        <th class=\"index_name level0\" >Item ID</th>        <th class=\"index_name level1\" >Item Name</th>        <th class=\"blank\" ></th>        <th class=\"blank\" ></th>        <th class=\"blank\" ></th>    </tr></thead><tbody>\n",
       "                <tr>\n",
       "                        <th id=\"T_58bdd3ab_35b7_11eb_81b8_548d5acefd3clevel0_row0\" class=\"row_heading level0 row0\" >92</th>\n",
       "                        <th id=\"T_58bdd3ab_35b7_11eb_81b8_548d5acefd3clevel1_row0\" class=\"row_heading level1 row0\" >Final Critic</th>\n",
       "                        <td id=\"T_58bdd3ab_35b7_11eb_81b8_548d5acefd3crow0_col0\" class=\"data row0 col0\" >13</td>\n",
       "                        <td id=\"T_58bdd3ab_35b7_11eb_81b8_548d5acefd3crow0_col1\" class=\"data row0 col1\" >$4.61</td>\n",
       "                        <td id=\"T_58bdd3ab_35b7_11eb_81b8_548d5acefd3crow0_col2\" class=\"data row0 col2\" >$59.99</td>\n",
       "            </tr>\n",
       "            <tr>\n",
       "                        <th id=\"T_58bdd3ab_35b7_11eb_81b8_548d5acefd3clevel0_row1\" class=\"row_heading level0 row1\" >178</th>\n",
       "                        <th id=\"T_58bdd3ab_35b7_11eb_81b8_548d5acefd3clevel1_row1\" class=\"row_heading level1 row1\" >Oathbreaker, Last Hope of the Breaking Storm</th>\n",
       "                        <td id=\"T_58bdd3ab_35b7_11eb_81b8_548d5acefd3crow1_col0\" class=\"data row1 col0\" >12</td>\n",
       "                        <td id=\"T_58bdd3ab_35b7_11eb_81b8_548d5acefd3crow1_col1\" class=\"data row1 col1\" >$4.23</td>\n",
       "                        <td id=\"T_58bdd3ab_35b7_11eb_81b8_548d5acefd3crow1_col2\" class=\"data row1 col2\" >$50.76</td>\n",
       "            </tr>\n",
       "            <tr>\n",
       "                        <th id=\"T_58bdd3ab_35b7_11eb_81b8_548d5acefd3clevel0_row2\" class=\"row_heading level0 row2\" >145</th>\n",
       "                        <th id=\"T_58bdd3ab_35b7_11eb_81b8_548d5acefd3clevel1_row2\" class=\"row_heading level1 row2\" >Fiery Glass Crusader</th>\n",
       "                        <td id=\"T_58bdd3ab_35b7_11eb_81b8_548d5acefd3crow2_col0\" class=\"data row2 col0\" >9</td>\n",
       "                        <td id=\"T_58bdd3ab_35b7_11eb_81b8_548d5acefd3crow2_col1\" class=\"data row2 col1\" >$4.58</td>\n",
       "                        <td id=\"T_58bdd3ab_35b7_11eb_81b8_548d5acefd3crow2_col2\" class=\"data row2 col2\" >$41.22</td>\n",
       "            </tr>\n",
       "            <tr>\n",
       "                        <th id=\"T_58bdd3ab_35b7_11eb_81b8_548d5acefd3clevel0_row3\" class=\"row_heading level0 row3\" >132</th>\n",
       "                        <th id=\"T_58bdd3ab_35b7_11eb_81b8_548d5acefd3clevel1_row3\" class=\"row_heading level1 row3\" >Persuasion</th>\n",
       "                        <td id=\"T_58bdd3ab_35b7_11eb_81b8_548d5acefd3crow3_col0\" class=\"data row3 col0\" >9</td>\n",
       "                        <td id=\"T_58bdd3ab_35b7_11eb_81b8_548d5acefd3crow3_col1\" class=\"data row3 col1\" >$3.22</td>\n",
       "                        <td id=\"T_58bdd3ab_35b7_11eb_81b8_548d5acefd3crow3_col2\" class=\"data row3 col2\" >$28.99</td>\n",
       "            </tr>\n",
       "            <tr>\n",
       "                        <th id=\"T_58bdd3ab_35b7_11eb_81b8_548d5acefd3clevel0_row4\" class=\"row_heading level0 row4\" >108</th>\n",
       "                        <th id=\"T_58bdd3ab_35b7_11eb_81b8_548d5acefd3clevel1_row4\" class=\"row_heading level1 row4\" >Extraction, Quickblade Of Trembling Hands</th>\n",
       "                        <td id=\"T_58bdd3ab_35b7_11eb_81b8_548d5acefd3crow4_col0\" class=\"data row4 col0\" >9</td>\n",
       "                        <td id=\"T_58bdd3ab_35b7_11eb_81b8_548d5acefd3crow4_col1\" class=\"data row4 col1\" >$3.53</td>\n",
       "                        <td id=\"T_58bdd3ab_35b7_11eb_81b8_548d5acefd3crow4_col2\" class=\"data row4 col2\" >$31.77</td>\n",
       "            </tr>\n",
       "    </tbody></table>"
      ],
      "text/plain": [
       "<pandas.io.formats.style.Styler at 0x2a204443700>"
      ]
     },
     "execution_count": 337,
     "metadata": {},
     "output_type": "execute_result"
    }
   ],
   "source": [
    "#Create a new dataframe with items needed\n",
    "id_items= purchase_data[[\"Item ID\", \"Item Name\", \"Price\"]]\n",
    "# Group by Item ID and then by Item Name\n",
    "id_grouping = id_items.groupby([\"Item ID\",\"Item Name\"])\n",
    "# Purchase Count\n",
    "id_purchase_count= id_grouping[\"Item ID\"].count()\n",
    "# Total Purchase Value\n",
    "id_tot_price = id_grouping[\"Price\"].sum()\n",
    "# Individual Price Value\n",
    "id_ind_val = id_tot_price/id_purchase_count\n",
    "\n",
    "# Create the dataframe pre formatting\n",
    "popular_df=pd.DataFrame({\"Purchase Count\": id_purchase_count, \"Item Price\": id_ind_val,\"Total Purchase Value\": id_tot_price})\n",
    "\n",
    "# Sort in descending order to obtain top 5 Most Popular Items \n",
    "formatted_popular_df = popular_df.sort_values([\"Purchase Count\"], ascending=False).head()\n",
    "\n",
    "# Change the formatting\n",
    "formatted_popular_df.style.format({\"Total Purchase Value\":\"${:.2f}\",\"Item Price\":\"${:.2f}\"})\n"
   ]
  },
  {
   "cell_type": "markdown",
   "metadata": {},
   "source": [
    "## Most Profitable Items"
   ]
  },
  {
   "cell_type": "markdown",
   "metadata": {},
   "source": [
    "* Sort the above table by total purchase value in descending order\n",
    "\n",
    "\n",
    "* Optional: give the displayed data cleaner formatting\n",
    "\n",
    "\n",
    "* Display a preview of the data frame\n",
    "\n"
   ]
  },
  {
   "cell_type": "code",
   "execution_count": 338,
   "metadata": {
    "scrolled": true
   },
   "outputs": [
    {
     "data": {
      "text/html": [
       "<style  type=\"text/css\" >\n",
       "</style><table id=\"T_5913cf22_35b7_11eb_b135_548d5acefd3c\" ><thead>    <tr>        <th class=\"blank\" ></th>        <th class=\"blank level0\" ></th>        <th class=\"col_heading level0 col0\" >Purchase Count</th>        <th class=\"col_heading level0 col1\" >Item Price</th>        <th class=\"col_heading level0 col2\" >Total Purchase Value</th>    </tr>    <tr>        <th class=\"index_name level0\" >Item ID</th>        <th class=\"index_name level1\" >Item Name</th>        <th class=\"blank\" ></th>        <th class=\"blank\" ></th>        <th class=\"blank\" ></th>    </tr></thead><tbody>\n",
       "                <tr>\n",
       "                        <th id=\"T_5913cf22_35b7_11eb_b135_548d5acefd3clevel0_row0\" class=\"row_heading level0 row0\" >92</th>\n",
       "                        <th id=\"T_5913cf22_35b7_11eb_b135_548d5acefd3clevel1_row0\" class=\"row_heading level1 row0\" >Final Critic</th>\n",
       "                        <td id=\"T_5913cf22_35b7_11eb_b135_548d5acefd3crow0_col0\" class=\"data row0 col0\" >13</td>\n",
       "                        <td id=\"T_5913cf22_35b7_11eb_b135_548d5acefd3crow0_col1\" class=\"data row0 col1\" >$4.61</td>\n",
       "                        <td id=\"T_5913cf22_35b7_11eb_b135_548d5acefd3crow0_col2\" class=\"data row0 col2\" >$59.99</td>\n",
       "            </tr>\n",
       "            <tr>\n",
       "                        <th id=\"T_5913cf22_35b7_11eb_b135_548d5acefd3clevel0_row1\" class=\"row_heading level0 row1\" >178</th>\n",
       "                        <th id=\"T_5913cf22_35b7_11eb_b135_548d5acefd3clevel1_row1\" class=\"row_heading level1 row1\" >Oathbreaker, Last Hope of the Breaking Storm</th>\n",
       "                        <td id=\"T_5913cf22_35b7_11eb_b135_548d5acefd3crow1_col0\" class=\"data row1 col0\" >12</td>\n",
       "                        <td id=\"T_5913cf22_35b7_11eb_b135_548d5acefd3crow1_col1\" class=\"data row1 col1\" >$4.23</td>\n",
       "                        <td id=\"T_5913cf22_35b7_11eb_b135_548d5acefd3crow1_col2\" class=\"data row1 col2\" >$50.76</td>\n",
       "            </tr>\n",
       "            <tr>\n",
       "                        <th id=\"T_5913cf22_35b7_11eb_b135_548d5acefd3clevel0_row2\" class=\"row_heading level0 row2\" >82</th>\n",
       "                        <th id=\"T_5913cf22_35b7_11eb_b135_548d5acefd3clevel1_row2\" class=\"row_heading level1 row2\" >Nirvana</th>\n",
       "                        <td id=\"T_5913cf22_35b7_11eb_b135_548d5acefd3crow2_col0\" class=\"data row2 col0\" >9</td>\n",
       "                        <td id=\"T_5913cf22_35b7_11eb_b135_548d5acefd3crow2_col1\" class=\"data row2 col1\" >$4.90</td>\n",
       "                        <td id=\"T_5913cf22_35b7_11eb_b135_548d5acefd3crow2_col2\" class=\"data row2 col2\" >$44.10</td>\n",
       "            </tr>\n",
       "            <tr>\n",
       "                        <th id=\"T_5913cf22_35b7_11eb_b135_548d5acefd3clevel0_row3\" class=\"row_heading level0 row3\" >145</th>\n",
       "                        <th id=\"T_5913cf22_35b7_11eb_b135_548d5acefd3clevel1_row3\" class=\"row_heading level1 row3\" >Fiery Glass Crusader</th>\n",
       "                        <td id=\"T_5913cf22_35b7_11eb_b135_548d5acefd3crow3_col0\" class=\"data row3 col0\" >9</td>\n",
       "                        <td id=\"T_5913cf22_35b7_11eb_b135_548d5acefd3crow3_col1\" class=\"data row3 col1\" >$4.58</td>\n",
       "                        <td id=\"T_5913cf22_35b7_11eb_b135_548d5acefd3crow3_col2\" class=\"data row3 col2\" >$41.22</td>\n",
       "            </tr>\n",
       "            <tr>\n",
       "                        <th id=\"T_5913cf22_35b7_11eb_b135_548d5acefd3clevel0_row4\" class=\"row_heading level0 row4\" >103</th>\n",
       "                        <th id=\"T_5913cf22_35b7_11eb_b135_548d5acefd3clevel1_row4\" class=\"row_heading level1 row4\" >Singed Scalpel</th>\n",
       "                        <td id=\"T_5913cf22_35b7_11eb_b135_548d5acefd3crow4_col0\" class=\"data row4 col0\" >8</td>\n",
       "                        <td id=\"T_5913cf22_35b7_11eb_b135_548d5acefd3crow4_col1\" class=\"data row4 col1\" >$4.35</td>\n",
       "                        <td id=\"T_5913cf22_35b7_11eb_b135_548d5acefd3crow4_col2\" class=\"data row4 col2\" >$34.80</td>\n",
       "            </tr>\n",
       "    </tbody></table>"
      ],
      "text/plain": [
       "<pandas.io.formats.style.Styler at 0x2a2044b4ee0>"
      ]
     },
     "execution_count": 338,
     "metadata": {},
     "output_type": "execute_result"
    }
   ],
   "source": [
    "# Sort in descending order to obtain top 5 Most Profitable Items \n",
    "formatted_profitable_df = popular_df.sort_values([\"Total Purchase Value\"], ascending=False).head()\n",
    "\n",
    "# Change the formatting\n",
    "formatted_profitable_df.style.format({\"Total Purchase Value\":\"${:.2f}\",\"Item Price\":\"${:.2f}\"})\n"
   ]
  },
  {
   "cell_type": "code",
   "execution_count": null,
   "metadata": {},
   "outputs": [],
   "source": []
  },
  {
   "cell_type": "code",
   "execution_count": null,
   "metadata": {},
   "outputs": [],
   "source": []
  },
  {
   "cell_type": "code",
   "execution_count": null,
   "metadata": {},
   "outputs": [],
   "source": []
  },
  {
   "cell_type": "code",
   "execution_count": null,
   "metadata": {},
   "outputs": [],
   "source": []
  }
 ],
 "metadata": {
  "anaconda-cloud": {},
  "kernel_info": {
   "name": "python3"
  },
  "kernelspec": {
   "display_name": "Python 3",
   "language": "python",
   "name": "python3"
  },
  "language_info": {
   "codemirror_mode": {
    "name": "ipython",
    "version": 3
   },
   "file_extension": ".py",
   "mimetype": "text/x-python",
   "name": "python",
   "nbconvert_exporter": "python",
   "pygments_lexer": "ipython3",
   "version": "3.8.3"
  },
  "latex_envs": {
   "LaTeX_envs_menu_present": true,
   "autoclose": false,
   "autocomplete": true,
   "bibliofile": "biblio.bib",
   "cite_by": "apalike",
   "current_citInitial": 1,
   "eqLabelWithNumbers": true,
   "eqNumInitial": 1,
   "hotkeys": {
    "equation": "Ctrl-E",
    "itemize": "Ctrl-I"
   },
   "labels_anchors": false,
   "latex_user_defs": false,
   "report_style_numbering": false,
   "user_envs_cfg": false
  },
  "nteract": {
   "version": "0.2.0"
  }
 },
 "nbformat": 4,
 "nbformat_minor": 2
}
